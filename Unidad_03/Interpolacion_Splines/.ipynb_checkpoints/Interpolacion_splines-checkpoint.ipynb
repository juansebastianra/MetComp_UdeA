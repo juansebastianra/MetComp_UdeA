{
 "cells": [
  {
   "cell_type": "code",
   "execution_count": 1,
   "metadata": {
    "collapsed": true
   },
   "outputs": [],
   "source": [
    "import numpy as np\n",
    "import matplotlib.pyplot as plt"
   ]
  },
  {
   "cell_type": "code",
   "execution_count": 3,
   "metadata": {},
   "outputs": [
    {
     "name": "stdout",
     "output_type": "stream",
     "text": [
      "aj =  [ 3.   3.7  3.9  4.2  5.7  6.6  7.1  6.7  4.5]\n",
      "bj =  [ 0.78570442  0.52859115 -0.08584251  1.01938296  1.40831065  0.54737443\n",
      "  0.04913213 -0.34172228  0.        ]\n",
      "cj =  [ 0.         -0.25711327  0.05230205  1.05292342 -0.66399573 -0.19694049\n",
      " -0.05218066 -0.07810414  0.        ]\n",
      "dj =  [-0.08570442  0.03437948  0.33354046 -0.57230638  0.15568508  0.02412664\n",
      " -0.00288039  0.00650868  0.        ]\n",
      "100\n",
      "100\n"
     ]
    },
    {
     "data": {
      "text/plain": [
       "[<matplotlib.lines.Line2D at 0x7ff1ac3fcfd0>]"
      ]
     },
     "execution_count": 3,
     "metadata": {},
     "output_type": "execute_result"
    }
   ],
   "source": [
    "x_list = [1,2,5,6,7,8,10,13,17]\n",
    "y_list = [3.0,3.7,3.9,4.2,5.7,6.6,7.1,6.7,4.5]\n",
    "n = len(x_list)-1 #3/h[] n=3\n",
    "\n",
    "x = np.zeros(n+1)\n",
    "\n",
    "a = np.zeros(n+1)\n",
    "b = np.zeros(n+1)\n",
    "c = np.zeros(n+1)\n",
    "d = np.zeros(n+1)\n",
    "\n",
    "l  = np.zeros(n+1)\n",
    "mu = np.zeros(n+1)\n",
    "z  = np.zeros(n+1)\n",
    "\n",
    "va = np.zeros(n+1)\n",
    "\n",
    "h = np.zeros(n)\n",
    "\n",
    "\n",
    "for i in range(0,len(x)):\n",
    "    x[i] = x_list[i]\n",
    "    a[i] = y_list[i]\n",
    "\n",
    "#step 1\n",
    "\n",
    "for i in range(0,n):\n",
    "    h[i]=x[i+1]-x[i]\n",
    "\n",
    "\n",
    "#step 2\n",
    "\n",
    "for i in range(1,n):\n",
    "    va[i] = 3/h[i] * (a[i+1]-a[i]) - 3/h[i-1] * (a[i]-a[i-1])\n",
    "    \n",
    "#step 3, solucion del sistema de ecuaciones lineales\n",
    "\n",
    "\n",
    "l[0] = 1\n",
    "mu[0] = 0\n",
    "z[0] = 0\n",
    "\n",
    "for i in range(1,n):\n",
    "    l[i] = 2*(x[i+1]-x[i-1]) - h[i-1]*mu[i-1]\n",
    "    mu[i] = h[i]/l[i]\n",
    "    z[i] = (va[i]-h[i-1]*z[i-1])/l[i]\n",
    "        \n",
    "l[n] = 1\n",
    "z[n] = 0\n",
    "c[n] = 0\n",
    "\n",
    "for j in np.arange(n-1,-1,-1):\n",
    "    c[j] = z[j]-mu[j]*c[j+1]\n",
    "    b[j] = (a[j+1]-a[j])/h[j] - h[j]*(c[j+1]+2*c[j])/3\n",
    "    d[j] = (c[j+1]-c[j])/(3*h[j])\n",
    "    \n",
    "\n",
    "print(\"aj = \",a)\n",
    "print(\"bj = \",b)\n",
    "print(\"cj = \",c)\n",
    "print(\"dj = \",d)\n",
    "    \n",
    "x_array = np.linspace(min(x_list),max(x_list),100)\n",
    "y_real = np.e**(x_array)\n",
    "\n",
    "y_array = []\n",
    "\n",
    "\n",
    "\n",
    "for i in range(0,len(x_array)):\n",
    "    for j in range(0,n):\n",
    "        if x[j]<=x_array[i]<x[j+1]:\n",
    "            s = a[j]+b[j]*(x_array[i]-x[j]) + c[j]*(x_array[i]-x[j])**2 + d[j]*(x_array[i]-x[j])**3\n",
    "            y_array.append(s)\n",
    "    if x_array[i]==x[n]:\n",
    "        s = a[n]+b[n]*(x_array[i]-x[n]) + c[n]*(x_array[i]-x[n])**2 + d[n]*(x_array[i]-x[n])**3\n",
    "        y_array.append(s)\n",
    "\n",
    "print(len(y_array))\n",
    "print(len(x_array))\n",
    "fig=plt.figure()\n",
    "ax=plt.axes()\n",
    "ax.plot(x_list,y_list,'*')\n",
    "ax.plot(x_array,y_array,'-')\n",
    "ax.plot(x_array,y_real,'--')"
   ]
  },
  {
   "cell_type": "code",
   "execution_count": null,
   "metadata": {
    "collapsed": true
   },
   "outputs": [],
   "source": []
  }
 ],
 "metadata": {
  "kernelspec": {
   "display_name": "Python 3",
   "language": "python",
   "name": "python3"
  },
  "language_info": {
   "codemirror_mode": {
    "name": "ipython",
    "version": 3
   },
   "file_extension": ".py",
   "mimetype": "text/x-python",
   "name": "python",
   "nbconvert_exporter": "python",
   "pygments_lexer": "ipython3",
   "version": "3.6.3"
  }
 },
 "nbformat": 4,
 "nbformat_minor": 2
}
